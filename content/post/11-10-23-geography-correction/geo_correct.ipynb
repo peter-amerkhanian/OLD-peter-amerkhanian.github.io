{
 "cells": [
  {
   "cell_type": "code",
   "execution_count": 95,
   "metadata": {},
   "outputs": [
    {
     "name": "stderr",
     "output_type": "stream",
     "text": [
      "C:\\Users\\peteramerkhanian\\AppData\\Local\\Temp\\ipykernel_17924\\1338892348.py:3: DeprecationWarning: Importing display from IPython.core.display is deprecated since IPython 7.14, please import from IPython display\n",
      "  from IPython.core.display import display, HTML\n"
     ]
    }
   ],
   "source": [
    "import pandas as pd\n",
    "import dask.dataframe as dd\n",
    "from IPython.core.display import display, HTML\n",
    "import requests\n",
    "from bs4 import BeautifulSoup\n",
    "import os\n",
    "from dask.diagnostics import ProgressBar"
   ]
  },
  {
   "cell_type": "code",
   "execution_count": 14,
   "metadata": {},
   "outputs": [],
   "source": [
    "\n",
    "# URL of the webpage to scrape\n",
    "url = 'http://64.111.127.166/origin-destination/'\n",
    "\n",
    "# Send an HTTP GET request to the webpage\n",
    "response = requests.get(url)\n",
    "\n",
    "# Check if the request was successful\n",
    "if response.status_code == 200:\n",
    "    # Parse the content of the webpage with Beautiful Soup\n",
    "    soup = BeautifulSoup(response.text, 'html.parser')\n",
    "else:\n",
    "    print(\"Failed to retrieve the webpage\")\n"
   ]
  },
  {
   "cell_type": "code",
   "execution_count": 30,
   "metadata": {},
   "outputs": [],
   "source": [
    "links = soup.find_all('a')"
   ]
  },
  {
   "cell_type": "code",
   "execution_count": 42,
   "metadata": {},
   "outputs": [
    {
     "data": {
      "text/plain": [
       "['?C=N;O=D',\n",
       " '?C=M;O=A',\n",
       " '?C=S;O=A',\n",
       " '?C=D;O=A',\n",
       " '/',\n",
       " 'READ%20ME.txt',\n",
       " 'date-hour-soo-dest-2011.csv.gz',\n",
       " 'date-hour-soo-dest-2012.csv.gz',\n",
       " 'date-hour-soo-dest-2013.csv.gz',\n",
       " 'date-hour-soo-dest-2014.csv.gz',\n",
       " 'date-hour-soo-dest-2015.csv.gz',\n",
       " 'date-hour-soo-dest-2016.csv.gz',\n",
       " 'date-hour-soo-dest-2017.csv.gz',\n",
       " 'date-hour-soo-dest-2018.csv.gz',\n",
       " 'date-hour-soo-dest-2019.csv.gz',\n",
       " 'date-hour-soo-dest-2020.csv.gz',\n",
       " 'date-hour-soo-dest-2021.csv.gz',\n",
       " 'date-hour-soo-dest-2022.csv.gz',\n",
       " 'date-hour-soo-dest-2023.csv.gz']"
      ]
     },
     "execution_count": 42,
     "metadata": {},
     "output_type": "execute_result"
    }
   ],
   "source": [
    "hrefs = [l.get('href') for l in links]\n",
    "hrefs"
   ]
  },
  {
   "cell_type": "code",
   "execution_count": 72,
   "metadata": {},
   "outputs": [
    {
     "data": {
      "text/plain": [
       "['date-hour-soo-dest-2011.csv.gz',\n",
       " 'date-hour-soo-dest-2012.csv.gz',\n",
       " 'date-hour-soo-dest-2013.csv.gz',\n",
       " 'date-hour-soo-dest-2014.csv.gz',\n",
       " 'date-hour-soo-dest-2015.csv.gz',\n",
       " 'date-hour-soo-dest-2016.csv.gz',\n",
       " 'date-hour-soo-dest-2017.csv.gz',\n",
       " 'date-hour-soo-dest-2018.csv.gz',\n",
       " 'date-hour-soo-dest-2019.csv.gz',\n",
       " 'date-hour-soo-dest-2020.csv.gz',\n",
       " 'date-hour-soo-dest-2021.csv.gz',\n",
       " 'date-hour-soo-dest-2022.csv.gz',\n",
       " 'date-hour-soo-dest-2023.csv.gz']"
      ]
     },
     "execution_count": 72,
     "metadata": {},
     "output_type": "execute_result"
    }
   ],
   "source": [
    "files = [f for f in hrefs if '.csv.gz' in f]\n",
    "files"
   ]
  },
  {
   "cell_type": "code",
   "execution_count": 73,
   "metadata": {},
   "outputs": [
    {
     "data": {
      "text/plain": [
       "['http://64.111.127.166/origin-destination//date-hour-soo-dest-2011.csv.gz',\n",
       " 'http://64.111.127.166/origin-destination//date-hour-soo-dest-2012.csv.gz',\n",
       " 'http://64.111.127.166/origin-destination//date-hour-soo-dest-2013.csv.gz',\n",
       " 'http://64.111.127.166/origin-destination//date-hour-soo-dest-2014.csv.gz',\n",
       " 'http://64.111.127.166/origin-destination//date-hour-soo-dest-2015.csv.gz',\n",
       " 'http://64.111.127.166/origin-destination//date-hour-soo-dest-2016.csv.gz',\n",
       " 'http://64.111.127.166/origin-destination//date-hour-soo-dest-2017.csv.gz',\n",
       " 'http://64.111.127.166/origin-destination//date-hour-soo-dest-2018.csv.gz',\n",
       " 'http://64.111.127.166/origin-destination//date-hour-soo-dest-2019.csv.gz',\n",
       " 'http://64.111.127.166/origin-destination//date-hour-soo-dest-2020.csv.gz',\n",
       " 'http://64.111.127.166/origin-destination//date-hour-soo-dest-2021.csv.gz',\n",
       " 'http://64.111.127.166/origin-destination//date-hour-soo-dest-2022.csv.gz',\n",
       " 'http://64.111.127.166/origin-destination//date-hour-soo-dest-2023.csv.gz']"
      ]
     },
     "execution_count": 73,
     "metadata": {},
     "output_type": "execute_result"
    }
   ],
   "source": [
    "file_urls = [url + \"/\" + f for f in files]\n",
    "file_urls"
   ]
  },
  {
   "cell_type": "code",
   "execution_count": 60,
   "metadata": {},
   "outputs": [
    {
     "name": "stdout",
     "output_type": "stream",
     "text": [
      "File 1 size: 35763624 bytes\n",
      "File 2 size: 37086081 bytes\n",
      "File 3 size: 36504603 bytes\n",
      "File 4 size: 37607682 bytes\n",
      "File 5 size: 38263683 bytes\n",
      "File 6 size: 37896643 bytes\n",
      "File 7 size: 37830997 bytes\n",
      "File 8 size: 38627139 bytes\n",
      "File 9 size: 38177159 bytes\n",
      "File 10 size: 21415653 bytes\n",
      "File 11 size: 24350926 bytes\n",
      "File 12 size: 30546036 bytes\n",
      "File 13 size: 27103436 bytes\n"
     ]
    }
   ],
   "source": [
    "counter = 1\n",
    "total = 0\n",
    "for f in file_urls:\n",
    "    response = requests.head(f)\n",
    "    file_size = int(response.headers.get('Content-Length', 0))\n",
    "    total += file_size\n",
    "    print(f\"File {counter} size: {file_size} bytes\")\n",
    "    counter += 1"
   ]
  },
  {
   "cell_type": "code",
   "execution_count": 61,
   "metadata": {},
   "outputs": [
    {
     "name": "stdout",
     "output_type": "stream",
     "text": [
      "Total size of data: 441.173662 mega-bytes\n"
     ]
    }
   ],
   "source": [
    "print(f\"Total size of data: {total*10e-7} mega-bytes\")"
   ]
  },
  {
   "cell_type": "code",
   "execution_count": 96,
   "metadata": {},
   "outputs": [],
   "source": [
    "# Create the \"data\" folder if it doesn't exist\n",
    "if not os.path.exists('data'):\n",
    "    os.makedirs('data')"
   ]
  },
  {
   "cell_type": "code",
   "execution_count": 97,
   "metadata": {},
   "outputs": [],
   "source": [
    "from tqdm import tqdm"
   ]
  },
  {
   "cell_type": "code",
   "execution_count": 99,
   "metadata": {},
   "outputs": [
    {
     "name": "stderr",
     "output_type": "stream",
     "text": [
      "100%|██████████| 13/13 [01:53<00:00,  8.75s/it]\n"
     ]
    }
   ],
   "source": [
    "# Download and save the files\n",
    "for url in tqdm(file_urls):\n",
    "    filename = os.path.join('data', os.path.basename(url))\n",
    "    if os.path.exists(filename):\n",
    "        print(f\"File already exists: {filename}\")\n",
    "    else:\n",
    "        response = requests.get(url)\n",
    "        if response.status_code == 200:\n",
    "            with open(filename, 'wb') as file:\n",
    "                file.write(response.content)\n",
    "        else:\n",
    "            print(f\"Failed to download: {url}\")"
   ]
  },
  {
   "cell_type": "code",
   "execution_count": 100,
   "metadata": {},
   "outputs": [],
   "source": [
    "# Create a .gitignore file\n",
    "gitignore_content = \"data/\\n\"  # Content to exclude the \"data\" folder\n",
    "\n",
    "with open('.gitignore', 'w') as gitignore_file:\n",
    "    gitignore_file.write(gitignore_content)"
   ]
  },
  {
   "attachments": {},
   "cell_type": "markdown",
   "metadata": {},
   "source": []
  },
  {
   "cell_type": "code",
   "execution_count": 104,
   "metadata": {},
   "outputs": [
    {
     "data": {
      "text/plain": [
       "['data/date-hour-soo-dest-2011.csv.gz',\n",
       " 'data/date-hour-soo-dest-2012.csv.gz',\n",
       " 'data/date-hour-soo-dest-2013.csv.gz',\n",
       " 'data/date-hour-soo-dest-2014.csv.gz',\n",
       " 'data/date-hour-soo-dest-2015.csv.gz',\n",
       " 'data/date-hour-soo-dest-2016.csv.gz',\n",
       " 'data/date-hour-soo-dest-2017.csv.gz',\n",
       " 'data/date-hour-soo-dest-2018.csv.gz',\n",
       " 'data/date-hour-soo-dest-2019.csv.gz',\n",
       " 'data/date-hour-soo-dest-2020.csv.gz',\n",
       " 'data/date-hour-soo-dest-2021.csv.gz',\n",
       " 'data/date-hour-soo-dest-2022.csv.gz',\n",
       " 'data/date-hour-soo-dest-2023.csv.gz']"
      ]
     },
     "execution_count": 104,
     "metadata": {},
     "output_type": "execute_result"
    }
   ],
   "source": [
    "data_paths = [\"data/\" + f for f in files]\n",
    "data_paths"
   ]
  },
  {
   "cell_type": "code",
   "execution_count": 105,
   "metadata": {},
   "outputs": [],
   "source": [
    "df = dd.read_csv(data_paths, blocksize=None)"
   ]
  },
  {
   "cell_type": "code",
   "execution_count": 106,
   "metadata": {},
   "outputs": [],
   "source": [
    "df.columns = ['Date', 'Hour', 'Start', 'End', 'Riders']"
   ]
  },
  {
   "cell_type": "code",
   "execution_count": 107,
   "metadata": {},
   "outputs": [
    {
     "data": {
      "text/html": [
       "<div><strong>Dask DataFrame Structure:</strong></div>\n",
       "<div>\n",
       "<style scoped>\n",
       "    .dataframe tbody tr th:only-of-type {\n",
       "        vertical-align: middle;\n",
       "    }\n",
       "\n",
       "    .dataframe tbody tr th {\n",
       "        vertical-align: top;\n",
       "    }\n",
       "\n",
       "    .dataframe thead th {\n",
       "        text-align: right;\n",
       "    }\n",
       "</style>\n",
       "<table border=\"1\" class=\"dataframe\">\n",
       "  <thead>\n",
       "    <tr style=\"text-align: right;\">\n",
       "      <th></th>\n",
       "      <th>Date</th>\n",
       "      <th>Hour</th>\n",
       "      <th>Start</th>\n",
       "      <th>End</th>\n",
       "      <th>Riders</th>\n",
       "    </tr>\n",
       "    <tr>\n",
       "      <th>npartitions=13</th>\n",
       "      <th></th>\n",
       "      <th></th>\n",
       "      <th></th>\n",
       "      <th></th>\n",
       "      <th></th>\n",
       "    </tr>\n",
       "  </thead>\n",
       "  <tbody>\n",
       "    <tr>\n",
       "      <th></th>\n",
       "      <td>object</td>\n",
       "      <td>int64</td>\n",
       "      <td>object</td>\n",
       "      <td>object</td>\n",
       "      <td>int64</td>\n",
       "    </tr>\n",
       "    <tr>\n",
       "      <th></th>\n",
       "      <td>...</td>\n",
       "      <td>...</td>\n",
       "      <td>...</td>\n",
       "      <td>...</td>\n",
       "      <td>...</td>\n",
       "    </tr>\n",
       "    <tr>\n",
       "      <th>...</th>\n",
       "      <td>...</td>\n",
       "      <td>...</td>\n",
       "      <td>...</td>\n",
       "      <td>...</td>\n",
       "      <td>...</td>\n",
       "    </tr>\n",
       "    <tr>\n",
       "      <th></th>\n",
       "      <td>...</td>\n",
       "      <td>...</td>\n",
       "      <td>...</td>\n",
       "      <td>...</td>\n",
       "      <td>...</td>\n",
       "    </tr>\n",
       "    <tr>\n",
       "      <th></th>\n",
       "      <td>...</td>\n",
       "      <td>...</td>\n",
       "      <td>...</td>\n",
       "      <td>...</td>\n",
       "      <td>...</td>\n",
       "    </tr>\n",
       "  </tbody>\n",
       "</table>\n",
       "</div>\n",
       "<div>Dask Name: rename, 26 tasks</div>"
      ],
      "text/plain": [
       "Dask DataFrame Structure:\n",
       "                  Date   Hour   Start     End Riders\n",
       "npartitions=13                                      \n",
       "                object  int64  object  object  int64\n",
       "                   ...    ...     ...     ...    ...\n",
       "...                ...    ...     ...     ...    ...\n",
       "                   ...    ...     ...     ...    ...\n",
       "                   ...    ...     ...     ...    ...\n",
       "Dask Name: rename, 26 tasks"
      ]
     },
     "execution_count": 107,
     "metadata": {},
     "output_type": "execute_result"
    }
   ],
   "source": [
    "df"
   ]
  },
  {
   "cell_type": "code",
   "execution_count": 109,
   "metadata": {},
   "outputs": [],
   "source": [
    "ProgressBar().register()"
   ]
  },
  {
   "cell_type": "code",
   "execution_count": 110,
   "metadata": {},
   "outputs": [
    {
     "name": "stdout",
     "output_type": "stream",
     "text": [
      "[########################################] | 100% Completed |  1min 26.6s\n",
      "[########################################] | 100% Completed |  1min 26.7s\n"
     ]
    },
    {
     "data": {
      "text/plain": [
       "117029110"
      ]
     },
     "execution_count": 110,
     "metadata": {},
     "output_type": "execute_result"
    }
   ],
   "source": [
    "df.shape[0].compute()"
   ]
  },
  {
   "cell_type": "code",
   "execution_count": 111,
   "metadata": {},
   "outputs": [
    {
     "name": "stdout",
     "output_type": "stream",
     "text": [
      "[########################################] | 100% Completed |  4.6s\n",
      "[########################################] | 100% Completed |  4.7s\n"
     ]
    },
    {
     "data": {
      "text/html": [
       "<div>\n",
       "<style scoped>\n",
       "    .dataframe tbody tr th:only-of-type {\n",
       "        vertical-align: middle;\n",
       "    }\n",
       "\n",
       "    .dataframe tbody tr th {\n",
       "        vertical-align: top;\n",
       "    }\n",
       "\n",
       "    .dataframe thead th {\n",
       "        text-align: right;\n",
       "    }\n",
       "</style>\n",
       "<table border=\"1\" class=\"dataframe\">\n",
       "  <thead>\n",
       "    <tr style=\"text-align: right;\">\n",
       "      <th></th>\n",
       "      <th>Date</th>\n",
       "      <th>Hour</th>\n",
       "      <th>Start</th>\n",
       "      <th>End</th>\n",
       "      <th>Riders</th>\n",
       "    </tr>\n",
       "  </thead>\n",
       "  <tbody>\n",
       "    <tr>\n",
       "      <th>0</th>\n",
       "      <td>2011-01-01</td>\n",
       "      <td>0</td>\n",
       "      <td>12TH</td>\n",
       "      <td>16TH</td>\n",
       "      <td>1</td>\n",
       "    </tr>\n",
       "    <tr>\n",
       "      <th>1</th>\n",
       "      <td>2011-01-01</td>\n",
       "      <td>0</td>\n",
       "      <td>12TH</td>\n",
       "      <td>24TH</td>\n",
       "      <td>3</td>\n",
       "    </tr>\n",
       "    <tr>\n",
       "      <th>2</th>\n",
       "      <td>2011-01-01</td>\n",
       "      <td>0</td>\n",
       "      <td>12TH</td>\n",
       "      <td>ASHB</td>\n",
       "      <td>2</td>\n",
       "    </tr>\n",
       "    <tr>\n",
       "      <th>3</th>\n",
       "      <td>2011-01-01</td>\n",
       "      <td>0</td>\n",
       "      <td>12TH</td>\n",
       "      <td>BAYF</td>\n",
       "      <td>5</td>\n",
       "    </tr>\n",
       "    <tr>\n",
       "      <th>4</th>\n",
       "      <td>2011-01-01</td>\n",
       "      <td>0</td>\n",
       "      <td>12TH</td>\n",
       "      <td>CIVC</td>\n",
       "      <td>3</td>\n",
       "    </tr>\n",
       "  </tbody>\n",
       "</table>\n",
       "</div>"
      ],
      "text/plain": [
       "         Date  Hour Start   End  Riders\n",
       "0  2011-01-01     0  12TH  16TH       1\n",
       "1  2011-01-01     0  12TH  24TH       3\n",
       "2  2011-01-01     0  12TH  ASHB       2\n",
       "3  2011-01-01     0  12TH  BAYF       5\n",
       "4  2011-01-01     0  12TH  CIVC       3"
      ]
     },
     "execution_count": 111,
     "metadata": {},
     "output_type": "execute_result"
    }
   ],
   "source": [
    "df.head()"
   ]
  },
  {
   "cell_type": "code",
   "execution_count": 112,
   "metadata": {},
   "outputs": [
    {
     "name": "stdout",
     "output_type": "stream",
     "text": [
      "[#########################               ] | 62% Completed |  1min 41.1s"
     ]
    }
   ],
   "source": [
    "df_rph = df.groupby(['Date', 'Hour'])['Riders'].sum().compute()"
   ]
  },
  {
   "cell_type": "code",
   "execution_count": null,
   "metadata": {},
   "outputs": [],
   "source": []
  }
 ],
 "metadata": {
  "kernelspec": {
   "display_name": "pp275",
   "language": "python",
   "name": "pp275"
  },
  "language_info": {
   "codemirror_mode": {
    "name": "ipython",
    "version": 3
   },
   "file_extension": ".py",
   "mimetype": "text/x-python",
   "name": "python",
   "nbconvert_exporter": "python",
   "pygments_lexer": "ipython3",
   "version": "3.9.15"
  },
  "orig_nbformat": 4
 },
 "nbformat": 4,
 "nbformat_minor": 2
}
